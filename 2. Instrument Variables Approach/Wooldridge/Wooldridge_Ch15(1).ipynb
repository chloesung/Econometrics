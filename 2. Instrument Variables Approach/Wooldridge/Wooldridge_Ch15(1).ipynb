{
  "nbformat": 4,
  "nbformat_minor": 0,
  "metadata": {
    "colab": {
      "name": "Wooldridge_Ch15(1)",
      "provenance": [],
      "collapsed_sections": [
        "MrHODgJIm151",
        "hqvlN-Nam6iH"
      ],
      "authorship_tag": "ABX9TyMMyJvQBRA8s+fP0TniLGD1",
      "include_colab_link": true
    },
    "kernelspec": {
      "name": "python3",
      "display_name": "Python 3"
    },
    "language_info": {
      "name": "python"
    }
  },
  "cells": [
    {
      "cell_type": "markdown",
      "metadata": {
        "id": "view-in-github",
        "colab_type": "text"
      },
      "source": [
        "<a href=\"https://colab.research.google.com/github/chloesung/Econometrics/blob/main/2.%20Instrument%20Variables%20Approach/Wooldridge/Wooldridge_Ch15(1).ipynb\" target=\"_parent\"><img src=\"https://colab.research.google.com/assets/colab-badge.svg\" alt=\"Open In Colab\"/></a>"
      ]
    },
    {
      "cell_type": "markdown",
      "source": [
        "# Import"
      ],
      "metadata": {
        "id": "MrHODgJIm151"
      }
    },
    {
      "cell_type": "code",
      "source": [
        "pip install wooldridge"
      ],
      "metadata": {
        "colab": {
          "base_uri": "https://localhost:8080/"
        },
        "id": "HCfpr907mpS8",
        "outputId": "43565c18-869e-4d71-b05e-8fc1b07b8932"
      },
      "execution_count": 1,
      "outputs": [
        {
          "output_type": "stream",
          "name": "stdout",
          "text": [
            "Looking in indexes: https://pypi.org/simple, https://us-python.pkg.dev/colab-wheels/public/simple/\n",
            "Requirement already satisfied: wooldridge in /usr/local/lib/python3.7/dist-packages (0.4.4)\n",
            "Requirement already satisfied: pandas in /usr/local/lib/python3.7/dist-packages (from wooldridge) (1.3.5)\n",
            "Requirement already satisfied: python-dateutil>=2.7.3 in /usr/local/lib/python3.7/dist-packages (from pandas->wooldridge) (2.8.2)\n",
            "Requirement already satisfied: numpy>=1.17.3 in /usr/local/lib/python3.7/dist-packages (from pandas->wooldridge) (1.21.6)\n",
            "Requirement already satisfied: pytz>=2017.3 in /usr/local/lib/python3.7/dist-packages (from pandas->wooldridge) (2022.2)\n",
            "Requirement already satisfied: six>=1.5 in /usr/local/lib/python3.7/dist-packages (from python-dateutil>=2.7.3->pandas->wooldridge) (1.15.0)\n"
          ]
        }
      ]
    },
    {
      "cell_type": "code",
      "execution_count": 2,
      "metadata": {
        "id": "EOPNYo9qlOWJ",
        "colab": {
          "base_uri": "https://localhost:8080/"
        },
        "outputId": "97acacdc-bc2e-4081-cc8e-d67b53e959cd"
      },
      "outputs": [
        {
          "output_type": "stream",
          "name": "stderr",
          "text": [
            "/usr/local/lib/python3.7/dist-packages/statsmodels/tools/_testing.py:19: FutureWarning: pandas.util.testing is deprecated. Use the functions in the public API at pandas.testing instead.\n",
            "  import pandas.util.testing as tm\n"
          ]
        }
      ],
      "source": [
        "import pandas as pd\n",
        "import numpy as np\n",
        "import re\n",
        "import math\n",
        "\n",
        "import seaborn as sns\n",
        "sns.set_palette(\"pastel\")\n",
        "sns.set(style=\"whitegrid\")\n",
        "import warnings\n",
        "import matplotlib.pyplot as plt\n",
        "pal = sns.color_palette('Set1')\n",
        "\n",
        "from scipy.stats import t\n",
        "from statsmodels.formula.api import ols\n",
        "pd.options.display.float_format = '{:.5f}'.format\n",
        "plt.rcParams['axes.unicode_minus'] = False\n",
        "import wooldridge\n",
        "\n",
        "warnings.filterwarnings(action='ignore')\n",
        "get_ipython().run_line_magic('config', \"InlineBackend.figure_format='retina' #화질 좋게 해주기\")"
      ]
    },
    {
      "cell_type": "markdown",
      "source": [
        "# 1. College Proximity"
      ],
      "metadata": {
        "id": "h_4HARJbDCGx"
      }
    },
    {
      "cell_type": "markdown",
      "source": [
        "## a) EDA"
      ],
      "metadata": {
        "id": "pePCXgayEvwE"
      }
    },
    {
      "cell_type": "code",
      "source": [
        "# Data Import\n",
        "df = wooldridge.data('mroz')[['lwage', 'educ', 'fatheduc']].dropna()\n",
        "df"
      ],
      "metadata": {
        "colab": {
          "base_uri": "https://localhost:8080/",
          "height": 424
        },
        "id": "HhrIQT4tDv5w",
        "outputId": "c902d836-afc6-45b7-81c2-b76b8ac34c36"
      },
      "execution_count": 3,
      "outputs": [
        {
          "output_type": "execute_result",
          "data": {
            "text/plain": [
              "      lwage  educ  fatheduc\n",
              "0   1.21015    12         7\n",
              "1   0.32851    12         7\n",
              "2   1.51414    12         7\n",
              "3   0.09212    12         7\n",
              "4   1.52427    14        14\n",
              "..      ...   ...       ...\n",
              "423 0.83803    10         7\n",
              "424 1.66886    12         7\n",
              "425 1.76943    13         7\n",
              "426 1.22645    12        16\n",
              "427 1.40649    12        12\n",
              "\n",
              "[428 rows x 3 columns]"
            ],
            "text/html": [
              "\n",
              "  <div id=\"df-25006f62-4144-4db1-ac17-b7c074524cfd\">\n",
              "    <div class=\"colab-df-container\">\n",
              "      <div>\n",
              "<style scoped>\n",
              "    .dataframe tbody tr th:only-of-type {\n",
              "        vertical-align: middle;\n",
              "    }\n",
              "\n",
              "    .dataframe tbody tr th {\n",
              "        vertical-align: top;\n",
              "    }\n",
              "\n",
              "    .dataframe thead th {\n",
              "        text-align: right;\n",
              "    }\n",
              "</style>\n",
              "<table border=\"1\" class=\"dataframe\">\n",
              "  <thead>\n",
              "    <tr style=\"text-align: right;\">\n",
              "      <th></th>\n",
              "      <th>lwage</th>\n",
              "      <th>educ</th>\n",
              "      <th>fatheduc</th>\n",
              "    </tr>\n",
              "  </thead>\n",
              "  <tbody>\n",
              "    <tr>\n",
              "      <th>0</th>\n",
              "      <td>1.21015</td>\n",
              "      <td>12</td>\n",
              "      <td>7</td>\n",
              "    </tr>\n",
              "    <tr>\n",
              "      <th>1</th>\n",
              "      <td>0.32851</td>\n",
              "      <td>12</td>\n",
              "      <td>7</td>\n",
              "    </tr>\n",
              "    <tr>\n",
              "      <th>2</th>\n",
              "      <td>1.51414</td>\n",
              "      <td>12</td>\n",
              "      <td>7</td>\n",
              "    </tr>\n",
              "    <tr>\n",
              "      <th>3</th>\n",
              "      <td>0.09212</td>\n",
              "      <td>12</td>\n",
              "      <td>7</td>\n",
              "    </tr>\n",
              "    <tr>\n",
              "      <th>4</th>\n",
              "      <td>1.52427</td>\n",
              "      <td>14</td>\n",
              "      <td>14</td>\n",
              "    </tr>\n",
              "    <tr>\n",
              "      <th>...</th>\n",
              "      <td>...</td>\n",
              "      <td>...</td>\n",
              "      <td>...</td>\n",
              "    </tr>\n",
              "    <tr>\n",
              "      <th>423</th>\n",
              "      <td>0.83803</td>\n",
              "      <td>10</td>\n",
              "      <td>7</td>\n",
              "    </tr>\n",
              "    <tr>\n",
              "      <th>424</th>\n",
              "      <td>1.66886</td>\n",
              "      <td>12</td>\n",
              "      <td>7</td>\n",
              "    </tr>\n",
              "    <tr>\n",
              "      <th>425</th>\n",
              "      <td>1.76943</td>\n",
              "      <td>13</td>\n",
              "      <td>7</td>\n",
              "    </tr>\n",
              "    <tr>\n",
              "      <th>426</th>\n",
              "      <td>1.22645</td>\n",
              "      <td>12</td>\n",
              "      <td>16</td>\n",
              "    </tr>\n",
              "    <tr>\n",
              "      <th>427</th>\n",
              "      <td>1.40649</td>\n",
              "      <td>12</td>\n",
              "      <td>12</td>\n",
              "    </tr>\n",
              "  </tbody>\n",
              "</table>\n",
              "<p>428 rows × 3 columns</p>\n",
              "</div>\n",
              "      <button class=\"colab-df-convert\" onclick=\"convertToInteractive('df-25006f62-4144-4db1-ac17-b7c074524cfd')\"\n",
              "              title=\"Convert this dataframe to an interactive table.\"\n",
              "              style=\"display:none;\">\n",
              "        \n",
              "  <svg xmlns=\"http://www.w3.org/2000/svg\" height=\"24px\"viewBox=\"0 0 24 24\"\n",
              "       width=\"24px\">\n",
              "    <path d=\"M0 0h24v24H0V0z\" fill=\"none\"/>\n",
              "    <path d=\"M18.56 5.44l.94 2.06.94-2.06 2.06-.94-2.06-.94-.94-2.06-.94 2.06-2.06.94zm-11 1L8.5 8.5l.94-2.06 2.06-.94-2.06-.94L8.5 2.5l-.94 2.06-2.06.94zm10 10l.94 2.06.94-2.06 2.06-.94-2.06-.94-.94-2.06-.94 2.06-2.06.94z\"/><path d=\"M17.41 7.96l-1.37-1.37c-.4-.4-.92-.59-1.43-.59-.52 0-1.04.2-1.43.59L10.3 9.45l-7.72 7.72c-.78.78-.78 2.05 0 2.83L4 21.41c.39.39.9.59 1.41.59.51 0 1.02-.2 1.41-.59l7.78-7.78 2.81-2.81c.8-.78.8-2.07 0-2.86zM5.41 20L4 18.59l7.72-7.72 1.47 1.35L5.41 20z\"/>\n",
              "  </svg>\n",
              "      </button>\n",
              "      \n",
              "  <style>\n",
              "    .colab-df-container {\n",
              "      display:flex;\n",
              "      flex-wrap:wrap;\n",
              "      gap: 12px;\n",
              "    }\n",
              "\n",
              "    .colab-df-convert {\n",
              "      background-color: #E8F0FE;\n",
              "      border: none;\n",
              "      border-radius: 50%;\n",
              "      cursor: pointer;\n",
              "      display: none;\n",
              "      fill: #1967D2;\n",
              "      height: 32px;\n",
              "      padding: 0 0 0 0;\n",
              "      width: 32px;\n",
              "    }\n",
              "\n",
              "    .colab-df-convert:hover {\n",
              "      background-color: #E2EBFA;\n",
              "      box-shadow: 0px 1px 2px rgba(60, 64, 67, 0.3), 0px 1px 3px 1px rgba(60, 64, 67, 0.15);\n",
              "      fill: #174EA6;\n",
              "    }\n",
              "\n",
              "    [theme=dark] .colab-df-convert {\n",
              "      background-color: #3B4455;\n",
              "      fill: #D2E3FC;\n",
              "    }\n",
              "\n",
              "    [theme=dark] .colab-df-convert:hover {\n",
              "      background-color: #434B5C;\n",
              "      box-shadow: 0px 1px 3px 1px rgba(0, 0, 0, 0.15);\n",
              "      filter: drop-shadow(0px 1px 2px rgba(0, 0, 0, 0.3));\n",
              "      fill: #FFFFFF;\n",
              "    }\n",
              "  </style>\n",
              "\n",
              "      <script>\n",
              "        const buttonEl =\n",
              "          document.querySelector('#df-25006f62-4144-4db1-ac17-b7c074524cfd button.colab-df-convert');\n",
              "        buttonEl.style.display =\n",
              "          google.colab.kernel.accessAllowed ? 'block' : 'none';\n",
              "\n",
              "        async function convertToInteractive(key) {\n",
              "          const element = document.querySelector('#df-25006f62-4144-4db1-ac17-b7c074524cfd');\n",
              "          const dataTable =\n",
              "            await google.colab.kernel.invokeFunction('convertToInteractive',\n",
              "                                                     [key], {});\n",
              "          if (!dataTable) return;\n",
              "\n",
              "          const docLinkHtml = 'Like what you see? Visit the ' +\n",
              "            '<a target=\"_blank\" href=https://colab.research.google.com/notebooks/data_table.ipynb>data table notebook</a>'\n",
              "            + ' to learn more about interactive tables.';\n",
              "          element.innerHTML = '';\n",
              "          dataTable['output_type'] = 'display_data';\n",
              "          await google.colab.output.renderOutput(dataTable, element);\n",
              "          const docLink = document.createElement('div');\n",
              "          docLink.innerHTML = docLinkHtml;\n",
              "          element.appendChild(docLink);\n",
              "        }\n",
              "      </script>\n",
              "    </div>\n",
              "  </div>\n",
              "  "
            ]
          },
          "metadata": {},
          "execution_count": 3
        }
      ]
    },
    {
      "cell_type": "markdown",
      "source": [
        "- $fatheduc$ is an instrument for education"
      ],
      "metadata": {
        "id": "W-YNDtijKsR4"
      }
    },
    {
      "cell_type": "markdown",
      "source": [
        "## b) OLS\n"
      ],
      "metadata": {
        "id": "FAXKjH1qIQt0"
      }
    },
    {
      "cell_type": "code",
      "source": [
        "# Regression\n",
        "res = ols('lwage ~  educ', data = df).fit()\n",
        "print(res.summary())"
      ],
      "metadata": {
        "colab": {
          "base_uri": "https://localhost:8080/"
        },
        "id": "sv80XCT8HYiv",
        "outputId": "46a13020-3684-4a6f-bb31-9019b6899ede"
      },
      "execution_count": 4,
      "outputs": [
        {
          "output_type": "stream",
          "name": "stdout",
          "text": [
            "                            OLS Regression Results                            \n",
            "==============================================================================\n",
            "Dep. Variable:                  lwage   R-squared:                       0.118\n",
            "Model:                            OLS   Adj. R-squared:                  0.116\n",
            "Method:                 Least Squares   F-statistic:                     56.93\n",
            "Date:                Thu, 18 Aug 2022   Prob (F-statistic):           2.76e-13\n",
            "Time:                        07:27:09   Log-Likelihood:                -441.26\n",
            "No. Observations:                 428   AIC:                             886.5\n",
            "Df Residuals:                     426   BIC:                             894.6\n",
            "Df Model:                           1                                         \n",
            "Covariance Type:            nonrobust                                         \n",
            "==============================================================================\n",
            "                 coef    std err          t      P>|t|      [0.025      0.975]\n",
            "------------------------------------------------------------------------------\n",
            "Intercept     -0.1852      0.185     -1.000      0.318      -0.549       0.179\n",
            "educ           0.1086      0.014      7.545      0.000       0.080       0.137\n",
            "==============================================================================\n",
            "Omnibus:                       91.833   Durbin-Watson:                   1.985\n",
            "Prob(Omnibus):                  0.000   Jarque-Bera (JB):              303.790\n",
            "Skew:                          -0.956   Prob(JB):                     1.08e-66\n",
            "Kurtosis:                       6.658   Cond. No.                         72.9\n",
            "==============================================================================\n",
            "\n",
            "Warnings:\n",
            "[1] Standard Errors assume that the covariance matrix of the errors is correctly specified.\n"
          ]
        }
      ]
    },
    {
      "cell_type": "markdown",
      "source": [
        "- $\\beta_1$ implies an almost 11% return for another year of education."
      ],
      "metadata": {
        "id": "XCteZ6H4i70Z"
      }
    },
    {
      "cell_type": "markdown",
      "source": [
        "## c) IV"
      ],
      "metadata": {
        "id": "Fn2oT9qkjYrV"
      }
    },
    {
      "cell_type": "code",
      "source": [
        "# educ - fatheduc\n",
        "res = ols('educ ~  fatheduc', data = df).fit()\n",
        "print(res.summary())"
      ],
      "metadata": {
        "colab": {
          "base_uri": "https://localhost:8080/"
        },
        "id": "hw_FbN4yjk2n",
        "outputId": "295b9a3b-64fb-4ef0-eef3-a42a784b9371"
      },
      "execution_count": 5,
      "outputs": [
        {
          "output_type": "stream",
          "name": "stdout",
          "text": [
            "                            OLS Regression Results                            \n",
            "==============================================================================\n",
            "Dep. Variable:                   educ   R-squared:                       0.173\n",
            "Model:                            OLS   Adj. R-squared:                  0.171\n",
            "Method:                 Least Squares   F-statistic:                     88.84\n",
            "Date:                Thu, 18 Aug 2022   Prob (F-statistic):           2.76e-19\n",
            "Time:                        07:27:09   Log-Likelihood:                -920.02\n",
            "No. Observations:                 428   AIC:                             1844.\n",
            "Df Residuals:                     426   BIC:                             1852.\n",
            "Df Model:                           1                                         \n",
            "Covariance Type:            nonrobust                                         \n",
            "==============================================================================\n",
            "                 coef    std err          t      P>|t|      [0.025      0.975]\n",
            "------------------------------------------------------------------------------\n",
            "Intercept     10.2371      0.276     37.099      0.000       9.695      10.779\n",
            "fatheduc       0.2694      0.029      9.426      0.000       0.213       0.326\n",
            "==============================================================================\n",
            "Omnibus:                        9.919   Durbin-Watson:                   1.919\n",
            "Prob(Omnibus):                  0.007   Jarque-Bera (JB):               16.651\n",
            "Skew:                          -0.093   Prob(JB):                     0.000242\n",
            "Kurtosis:                       3.948   Cond. No.                         26.7\n",
            "==============================================================================\n",
            "\n",
            "Warnings:\n",
            "[1] Standard Errors assume that the covariance matrix of the errors is correctly specified.\n"
          ]
        }
      ]
    },
    {
      "cell_type": "markdown",
      "source": [
        "- p-value is small enough to reject the null hypothesis, $\\pi_1 = 0$.\n",
        "- $educ$ and $fatheduc$ have a statistically significant positive correlation."
      ],
      "metadata": {
        "id": "lAuyNKQV0vht"
      }
    },
    {
      "cell_type": "code",
      "source": [
        "# 1st Stage\n",
        "res = ols('educ ~ fatheduc', data=df).fit()\n",
        "df['educ_iv'] = res.fittedvalues.values\n",
        "\n",
        "# 2nd Stage\n",
        "res = ols('lwage ~ educ_iv', data=df).fit()\n",
        "print(res.summary())"
      ],
      "metadata": {
        "colab": {
          "base_uri": "https://localhost:8080/"
        },
        "id": "q-lCuGFUjY0M",
        "outputId": "eb14ec17-22a7-475a-ab16-e37ae530e380"
      },
      "execution_count": 6,
      "outputs": [
        {
          "output_type": "stream",
          "name": "stdout",
          "text": [
            "                            OLS Regression Results                            \n",
            "==============================================================================\n",
            "Dep. Variable:                  lwage   R-squared:                       0.006\n",
            "Model:                            OLS   Adj. R-squared:                  0.004\n",
            "Method:                 Least Squares   F-statistic:                     2.586\n",
            "Date:                Thu, 18 Aug 2022   Prob (F-statistic):              0.109\n",
            "Time:                        07:27:09   Log-Likelihood:                -466.81\n",
            "No. Observations:                 428   AIC:                             937.6\n",
            "Df Residuals:                     426   BIC:                             945.7\n",
            "Df Model:                           1                                         \n",
            "Covariance Type:            nonrobust                                         \n",
            "==============================================================================\n",
            "                 coef    std err          t      P>|t|      [0.025      0.975]\n",
            "------------------------------------------------------------------------------\n",
            "Intercept      0.4411      0.467      0.944      0.346      -0.477       1.359\n",
            "educ_iv        0.0592      0.037      1.608      0.109      -0.013       0.131\n",
            "==============================================================================\n",
            "Omnibus:                       63.908   Durbin-Watson:                   1.973\n",
            "Prob(Omnibus):                  0.000   Jarque-Bera (JB):              167.384\n",
            "Skew:                          -0.730   Prob(JB):                     4.50e-37\n",
            "Kurtosis:                       5.693   Cond. No.                         171.\n",
            "==============================================================================\n",
            "\n",
            "Warnings:\n",
            "[1] Standard Errors assume that the covariance matrix of the errors is correctly specified.\n"
          ]
        }
      ]
    },
    {
      "cell_type": "markdown",
      "source": [
        "- $\\beta_1$ implies an almost 6% return for another year of education.\n",
        "- This *suggests* that the OLS estimate is too high and is consistent with omitted ability bias.\n",
        "- However, although the differences are practically large, we cannot say whether the difference is statistically significant. "
      ],
      "metadata": {
        "id": "dduYSbf50pi1"
      }
    }
  ]
}