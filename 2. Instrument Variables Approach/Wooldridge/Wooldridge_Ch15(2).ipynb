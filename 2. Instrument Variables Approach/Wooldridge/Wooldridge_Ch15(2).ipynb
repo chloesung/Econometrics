{
  "nbformat": 4,
  "nbformat_minor": 0,
  "metadata": {
    "colab": {
      "name": "Wooldridge_Ch15(2)",
      "provenance": [],
      "collapsed_sections": [
        "MrHODgJIm151",
        "hqvlN-Nam6iH"
      ],
      "authorship_tag": "ABX9TyN79K8b0/bmKJqgR0on1MaY",
      "include_colab_link": true
    },
    "kernelspec": {
      "name": "python3",
      "display_name": "Python 3"
    },
    "language_info": {
      "name": "python"
    }
  },
  "cells": [
    {
      "cell_type": "markdown",
      "metadata": {
        "id": "view-in-github",
        "colab_type": "text"
      },
      "source": [
        "<a href=\"https://colab.research.google.com/github/chloesung/Econometrics/blob/main/2.%20Instrument%20Variables%20Approach/Wooldridge/Wooldridge_Ch15(2).ipynb\" target=\"_parent\"><img src=\"https://colab.research.google.com/assets/colab-badge.svg\" alt=\"Open In Colab\"/></a>"
      ]
    },
    {
      "cell_type": "markdown",
      "source": [
        "# Import"
      ],
      "metadata": {
        "id": "MrHODgJIm151"
      }
    },
    {
      "cell_type": "code",
      "source": [
        "pip install wooldridge"
      ],
      "metadata": {
        "colab": {
          "base_uri": "https://localhost:8080/"
        },
        "id": "HCfpr907mpS8",
        "outputId": "145fca36-952a-4fb1-d816-6a8994710072"
      },
      "execution_count": 1,
      "outputs": [
        {
          "output_type": "stream",
          "name": "stdout",
          "text": [
            "Looking in indexes: https://pypi.org/simple, https://us-python.pkg.dev/colab-wheels/public/simple/\n",
            "Requirement already satisfied: wooldridge in /usr/local/lib/python3.7/dist-packages (0.4.4)\n",
            "Requirement already satisfied: pandas in /usr/local/lib/python3.7/dist-packages (from wooldridge) (1.3.5)\n",
            "Requirement already satisfied: numpy>=1.17.3 in /usr/local/lib/python3.7/dist-packages (from pandas->wooldridge) (1.21.6)\n",
            "Requirement already satisfied: python-dateutil>=2.7.3 in /usr/local/lib/python3.7/dist-packages (from pandas->wooldridge) (2.8.2)\n",
            "Requirement already satisfied: pytz>=2017.3 in /usr/local/lib/python3.7/dist-packages (from pandas->wooldridge) (2022.2.1)\n",
            "Requirement already satisfied: six>=1.5 in /usr/local/lib/python3.7/dist-packages (from python-dateutil>=2.7.3->pandas->wooldridge) (1.15.0)\n"
          ]
        }
      ]
    },
    {
      "cell_type": "code",
      "source": [
        "pip install linearmodels"
      ],
      "metadata": {
        "colab": {
          "base_uri": "https://localhost:8080/"
        },
        "id": "utqQrXcEA2oM",
        "outputId": "51f3a8d4-9997-421e-da1f-b6b394ca6a3e"
      },
      "execution_count": 2,
      "outputs": [
        {
          "output_type": "stream",
          "name": "stdout",
          "text": [
            "Looking in indexes: https://pypi.org/simple, https://us-python.pkg.dev/colab-wheels/public/simple/\n",
            "Requirement already satisfied: linearmodels in /usr/local/lib/python3.7/dist-packages (4.25)\n",
            "Requirement already satisfied: scipy>=1.2 in /usr/local/lib/python3.7/dist-packages (from linearmodels) (1.7.3)\n",
            "Requirement already satisfied: mypy-extensions>=0.4 in /usr/local/lib/python3.7/dist-packages (from linearmodels) (0.4.3)\n",
            "Requirement already satisfied: Cython>=0.29.21 in /usr/local/lib/python3.7/dist-packages (from linearmodels) (0.29.32)\n",
            "Requirement already satisfied: pandas>=0.24 in /usr/local/lib/python3.7/dist-packages (from linearmodels) (1.3.5)\n",
            "Requirement already satisfied: patsy in /usr/local/lib/python3.7/dist-packages (from linearmodels) (0.5.2)\n",
            "Requirement already satisfied: property-cached>=1.6.3 in /usr/local/lib/python3.7/dist-packages (from linearmodels) (1.6.4)\n",
            "Requirement already satisfied: formulaic in /usr/local/lib/python3.7/dist-packages (from linearmodels) (0.4.0)\n",
            "Requirement already satisfied: statsmodels>=0.11 in /usr/local/lib/python3.7/dist-packages (from linearmodels) (0.12.2)\n",
            "Requirement already satisfied: pyhdfe>=0.1 in /usr/local/lib/python3.7/dist-packages (from linearmodels) (0.1.0)\n",
            "Requirement already satisfied: numpy>=1.16 in /usr/local/lib/python3.7/dist-packages (from linearmodels) (1.21.6)\n",
            "Requirement already satisfied: python-dateutil>=2.7.3 in /usr/local/lib/python3.7/dist-packages (from pandas>=0.24->linearmodels) (2.8.2)\n",
            "Requirement already satisfied: pytz>=2017.3 in /usr/local/lib/python3.7/dist-packages (from pandas>=0.24->linearmodels) (2022.2.1)\n",
            "Requirement already satisfied: six>=1.5 in /usr/local/lib/python3.7/dist-packages (from python-dateutil>=2.7.3->pandas>=0.24->linearmodels) (1.15.0)\n",
            "Requirement already satisfied: wrapt>=1.0 in /usr/local/lib/python3.7/dist-packages (from formulaic->linearmodels) (1.14.1)\n",
            "Requirement already satisfied: graphlib-backport<2.0.0,>=1.0.0 in /usr/local/lib/python3.7/dist-packages (from formulaic->linearmodels) (1.0.3)\n",
            "Requirement already satisfied: interface-meta<2.0.0,>=1.2.0 in /usr/local/lib/python3.7/dist-packages (from formulaic->linearmodels) (1.3.0)\n",
            "Requirement already satisfied: astor>=0.8 in /usr/local/lib/python3.7/dist-packages (from formulaic->linearmodels) (0.8.1)\n",
            "Requirement already satisfied: typing-extensions<5.0.0,>=4.2.0 in /usr/local/lib/python3.7/dist-packages (from formulaic->linearmodels) (4.3.0)\n",
            "Requirement already satisfied: cached_property>=1.3.0 in /usr/local/lib/python3.7/dist-packages (from formulaic->linearmodels) (1.5.2)\n"
          ]
        }
      ]
    },
    {
      "cell_type": "code",
      "execution_count": 3,
      "metadata": {
        "id": "EOPNYo9qlOWJ"
      },
      "outputs": [],
      "source": [
        "import pandas as pd\n",
        "import numpy as np\n",
        "import re\n",
        "import math\n",
        "\n",
        "import seaborn as sns\n",
        "sns.set_palette(\"pastel\")\n",
        "sns.set(style=\"whitegrid\")\n",
        "import warnings\n",
        "import matplotlib.pyplot as plt\n",
        "pal = sns.color_palette('Set1')\n",
        "\n",
        "from scipy.stats import t\n",
        "from statsmodels.formula.api import ols\n",
        "from statsmodels.api import add_constant\n",
        "pd.options.display.float_format = '{:.5f}'.format\n",
        "plt.rcParams['axes.unicode_minus'] = False\n",
        "from linearmodels import IV2SLS\n",
        "import wooldridge\n",
        "\n",
        "warnings.filterwarnings(action='ignore')\n",
        "get_ipython().run_line_magic('config', \"InlineBackend.figure_format='retina' #화질 좋게 해주기\")"
      ]
    },
    {
      "cell_type": "markdown",
      "source": [
        "# 1. College Proximity"
      ],
      "metadata": {
        "id": "h_4HARJbDCGx"
      }
    },
    {
      "cell_type": "markdown",
      "source": [
        "## a) EDA"
      ],
      "metadata": {
        "id": "pePCXgayEvwE"
      }
    },
    {
      "cell_type": "code",
      "source": [
        "# Data Import\n",
        "df = wooldridge.data('wage2')[['lwage', 'educ', 'exper', 'tenure', 'married', 'south', 'urban', 'black', 'IQ', 'KWW']]\n",
        "df"
      ],
      "metadata": {
        "colab": {
          "base_uri": "https://localhost:8080/",
          "height": 424
        },
        "id": "HhrIQT4tDv5w",
        "outputId": "c8a3529f-18b7-4c02-c7a7-eb826acc5878"
      },
      "execution_count": 4,
      "outputs": [
        {
          "output_type": "execute_result",
          "data": {
            "text/plain": [
              "      lwage  educ  exper  tenure  married  south  urban  black   IQ  KWW\n",
              "0   6.64509    12     11       2        1      0      1      0   93   35\n",
              "1   6.69456    18     11      16        1      0      1      0  119   41\n",
              "2   6.71538    14     11       9        1      0      1      0  108   46\n",
              "3   6.47697    12     13       7        1      0      1      0   96   32\n",
              "4   6.33150    11     14       5        1      0      1      0   74   27\n",
              "..      ...   ...    ...     ...      ...    ...    ...    ...  ...  ...\n",
              "930 6.25383    16      6       1        1      1      0      1   79   28\n",
              "931 7.09174    13     10       3        1      1      1      0  102   32\n",
              "932 6.28786    12     12      10        1      1      0      1   77   22\n",
              "933 6.77194    12     12      12        1      1      0      0  109   25\n",
              "934 6.90776    12     17      18        1      1      0      0  107   32\n",
              "\n",
              "[935 rows x 10 columns]"
            ],
            "text/html": [
              "\n",
              "  <div id=\"df-14aac17a-614c-4734-ae9a-cb50e36f3146\">\n",
              "    <div class=\"colab-df-container\">\n",
              "      <div>\n",
              "<style scoped>\n",
              "    .dataframe tbody tr th:only-of-type {\n",
              "        vertical-align: middle;\n",
              "    }\n",
              "\n",
              "    .dataframe tbody tr th {\n",
              "        vertical-align: top;\n",
              "    }\n",
              "\n",
              "    .dataframe thead th {\n",
              "        text-align: right;\n",
              "    }\n",
              "</style>\n",
              "<table border=\"1\" class=\"dataframe\">\n",
              "  <thead>\n",
              "    <tr style=\"text-align: right;\">\n",
              "      <th></th>\n",
              "      <th>lwage</th>\n",
              "      <th>educ</th>\n",
              "      <th>exper</th>\n",
              "      <th>tenure</th>\n",
              "      <th>married</th>\n",
              "      <th>south</th>\n",
              "      <th>urban</th>\n",
              "      <th>black</th>\n",
              "      <th>IQ</th>\n",
              "      <th>KWW</th>\n",
              "    </tr>\n",
              "  </thead>\n",
              "  <tbody>\n",
              "    <tr>\n",
              "      <th>0</th>\n",
              "      <td>6.64509</td>\n",
              "      <td>12</td>\n",
              "      <td>11</td>\n",
              "      <td>2</td>\n",
              "      <td>1</td>\n",
              "      <td>0</td>\n",
              "      <td>1</td>\n",
              "      <td>0</td>\n",
              "      <td>93</td>\n",
              "      <td>35</td>\n",
              "    </tr>\n",
              "    <tr>\n",
              "      <th>1</th>\n",
              "      <td>6.69456</td>\n",
              "      <td>18</td>\n",
              "      <td>11</td>\n",
              "      <td>16</td>\n",
              "      <td>1</td>\n",
              "      <td>0</td>\n",
              "      <td>1</td>\n",
              "      <td>0</td>\n",
              "      <td>119</td>\n",
              "      <td>41</td>\n",
              "    </tr>\n",
              "    <tr>\n",
              "      <th>2</th>\n",
              "      <td>6.71538</td>\n",
              "      <td>14</td>\n",
              "      <td>11</td>\n",
              "      <td>9</td>\n",
              "      <td>1</td>\n",
              "      <td>0</td>\n",
              "      <td>1</td>\n",
              "      <td>0</td>\n",
              "      <td>108</td>\n",
              "      <td>46</td>\n",
              "    </tr>\n",
              "    <tr>\n",
              "      <th>3</th>\n",
              "      <td>6.47697</td>\n",
              "      <td>12</td>\n",
              "      <td>13</td>\n",
              "      <td>7</td>\n",
              "      <td>1</td>\n",
              "      <td>0</td>\n",
              "      <td>1</td>\n",
              "      <td>0</td>\n",
              "      <td>96</td>\n",
              "      <td>32</td>\n",
              "    </tr>\n",
              "    <tr>\n",
              "      <th>4</th>\n",
              "      <td>6.33150</td>\n",
              "      <td>11</td>\n",
              "      <td>14</td>\n",
              "      <td>5</td>\n",
              "      <td>1</td>\n",
              "      <td>0</td>\n",
              "      <td>1</td>\n",
              "      <td>0</td>\n",
              "      <td>74</td>\n",
              "      <td>27</td>\n",
              "    </tr>\n",
              "    <tr>\n",
              "      <th>...</th>\n",
              "      <td>...</td>\n",
              "      <td>...</td>\n",
              "      <td>...</td>\n",
              "      <td>...</td>\n",
              "      <td>...</td>\n",
              "      <td>...</td>\n",
              "      <td>...</td>\n",
              "      <td>...</td>\n",
              "      <td>...</td>\n",
              "      <td>...</td>\n",
              "    </tr>\n",
              "    <tr>\n",
              "      <th>930</th>\n",
              "      <td>6.25383</td>\n",
              "      <td>16</td>\n",
              "      <td>6</td>\n",
              "      <td>1</td>\n",
              "      <td>1</td>\n",
              "      <td>1</td>\n",
              "      <td>0</td>\n",
              "      <td>1</td>\n",
              "      <td>79</td>\n",
              "      <td>28</td>\n",
              "    </tr>\n",
              "    <tr>\n",
              "      <th>931</th>\n",
              "      <td>7.09174</td>\n",
              "      <td>13</td>\n",
              "      <td>10</td>\n",
              "      <td>3</td>\n",
              "      <td>1</td>\n",
              "      <td>1</td>\n",
              "      <td>1</td>\n",
              "      <td>0</td>\n",
              "      <td>102</td>\n",
              "      <td>32</td>\n",
              "    </tr>\n",
              "    <tr>\n",
              "      <th>932</th>\n",
              "      <td>6.28786</td>\n",
              "      <td>12</td>\n",
              "      <td>12</td>\n",
              "      <td>10</td>\n",
              "      <td>1</td>\n",
              "      <td>1</td>\n",
              "      <td>0</td>\n",
              "      <td>1</td>\n",
              "      <td>77</td>\n",
              "      <td>22</td>\n",
              "    </tr>\n",
              "    <tr>\n",
              "      <th>933</th>\n",
              "      <td>6.77194</td>\n",
              "      <td>12</td>\n",
              "      <td>12</td>\n",
              "      <td>12</td>\n",
              "      <td>1</td>\n",
              "      <td>1</td>\n",
              "      <td>0</td>\n",
              "      <td>0</td>\n",
              "      <td>109</td>\n",
              "      <td>25</td>\n",
              "    </tr>\n",
              "    <tr>\n",
              "      <th>934</th>\n",
              "      <td>6.90776</td>\n",
              "      <td>12</td>\n",
              "      <td>17</td>\n",
              "      <td>18</td>\n",
              "      <td>1</td>\n",
              "      <td>1</td>\n",
              "      <td>0</td>\n",
              "      <td>0</td>\n",
              "      <td>107</td>\n",
              "      <td>32</td>\n",
              "    </tr>\n",
              "  </tbody>\n",
              "</table>\n",
              "<p>935 rows × 10 columns</p>\n",
              "</div>\n",
              "      <button class=\"colab-df-convert\" onclick=\"convertToInteractive('df-14aac17a-614c-4734-ae9a-cb50e36f3146')\"\n",
              "              title=\"Convert this dataframe to an interactive table.\"\n",
              "              style=\"display:none;\">\n",
              "        \n",
              "  <svg xmlns=\"http://www.w3.org/2000/svg\" height=\"24px\"viewBox=\"0 0 24 24\"\n",
              "       width=\"24px\">\n",
              "    <path d=\"M0 0h24v24H0V0z\" fill=\"none\"/>\n",
              "    <path d=\"M18.56 5.44l.94 2.06.94-2.06 2.06-.94-2.06-.94-.94-2.06-.94 2.06-2.06.94zm-11 1L8.5 8.5l.94-2.06 2.06-.94-2.06-.94L8.5 2.5l-.94 2.06-2.06.94zm10 10l.94 2.06.94-2.06 2.06-.94-2.06-.94-.94-2.06-.94 2.06-2.06.94z\"/><path d=\"M17.41 7.96l-1.37-1.37c-.4-.4-.92-.59-1.43-.59-.52 0-1.04.2-1.43.59L10.3 9.45l-7.72 7.72c-.78.78-.78 2.05 0 2.83L4 21.41c.39.39.9.59 1.41.59.51 0 1.02-.2 1.41-.59l7.78-7.78 2.81-2.81c.8-.78.8-2.07 0-2.86zM5.41 20L4 18.59l7.72-7.72 1.47 1.35L5.41 20z\"/>\n",
              "  </svg>\n",
              "      </button>\n",
              "      \n",
              "  <style>\n",
              "    .colab-df-container {\n",
              "      display:flex;\n",
              "      flex-wrap:wrap;\n",
              "      gap: 12px;\n",
              "    }\n",
              "\n",
              "    .colab-df-convert {\n",
              "      background-color: #E8F0FE;\n",
              "      border: none;\n",
              "      border-radius: 50%;\n",
              "      cursor: pointer;\n",
              "      display: none;\n",
              "      fill: #1967D2;\n",
              "      height: 32px;\n",
              "      padding: 0 0 0 0;\n",
              "      width: 32px;\n",
              "    }\n",
              "\n",
              "    .colab-df-convert:hover {\n",
              "      background-color: #E2EBFA;\n",
              "      box-shadow: 0px 1px 2px rgba(60, 64, 67, 0.3), 0px 1px 3px 1px rgba(60, 64, 67, 0.15);\n",
              "      fill: #174EA6;\n",
              "    }\n",
              "\n",
              "    [theme=dark] .colab-df-convert {\n",
              "      background-color: #3B4455;\n",
              "      fill: #D2E3FC;\n",
              "    }\n",
              "\n",
              "    [theme=dark] .colab-df-convert:hover {\n",
              "      background-color: #434B5C;\n",
              "      box-shadow: 0px 1px 3px 1px rgba(0, 0, 0, 0.15);\n",
              "      filter: drop-shadow(0px 1px 2px rgba(0, 0, 0, 0.3));\n",
              "      fill: #FFFFFF;\n",
              "    }\n",
              "  </style>\n",
              "\n",
              "      <script>\n",
              "        const buttonEl =\n",
              "          document.querySelector('#df-14aac17a-614c-4734-ae9a-cb50e36f3146 button.colab-df-convert');\n",
              "        buttonEl.style.display =\n",
              "          google.colab.kernel.accessAllowed ? 'block' : 'none';\n",
              "\n",
              "        async function convertToInteractive(key) {\n",
              "          const element = document.querySelector('#df-14aac17a-614c-4734-ae9a-cb50e36f3146');\n",
              "          const dataTable =\n",
              "            await google.colab.kernel.invokeFunction('convertToInteractive',\n",
              "                                                     [key], {});\n",
              "          if (!dataTable) return;\n",
              "\n",
              "          const docLinkHtml = 'Like what you see? Visit the ' +\n",
              "            '<a target=\"_blank\" href=https://colab.research.google.com/notebooks/data_table.ipynb>data table notebook</a>'\n",
              "            + ' to learn more about interactive tables.';\n",
              "          element.innerHTML = '';\n",
              "          dataTable['output_type'] = 'display_data';\n",
              "          await google.colab.output.renderOutput(dataTable, element);\n",
              "          const docLink = document.createElement('div');\n",
              "          docLink.innerHTML = docLinkHtml;\n",
              "          element.appendChild(docLink);\n",
              "        }\n",
              "      </script>\n",
              "    </div>\n",
              "  </div>\n",
              "  "
            ]
          },
          "metadata": {},
          "execution_count": 4
        }
      ]
    },
    {
      "cell_type": "markdown",
      "source": [
        "- *KWW* is an instrument for *IQ*"
      ],
      "metadata": {
        "id": "W-YNDtijKsR4"
      }
    },
    {
      "cell_type": "markdown",
      "source": [
        "## b) OLS\n"
      ],
      "metadata": {
        "id": "FAXKjH1qIQt0"
      }
    },
    {
      "cell_type": "code",
      "source": [
        "# Regression\n",
        "res = ols('lwage ~ educ + exper + tenure + married + south + urban + black + IQ', data = df).fit()\n",
        "print(res.summary())"
      ],
      "metadata": {
        "colab": {
          "base_uri": "https://localhost:8080/"
        },
        "id": "sv80XCT8HYiv",
        "outputId": "45776dc3-9f17-418e-f22c-d82feeb3dc39"
      },
      "execution_count": 5,
      "outputs": [
        {
          "output_type": "stream",
          "name": "stdout",
          "text": [
            "                            OLS Regression Results                            \n",
            "==============================================================================\n",
            "Dep. Variable:                  lwage   R-squared:                       0.263\n",
            "Model:                            OLS   Adj. R-squared:                  0.256\n",
            "Method:                 Least Squares   F-statistic:                     41.27\n",
            "Date:                Wed, 24 Aug 2022   Prob (F-statistic):           1.52e-56\n",
            "Time:                        14:33:44   Log-Likelihood:                -375.09\n",
            "No. Observations:                 935   AIC:                             768.2\n",
            "Df Residuals:                     926   BIC:                             811.7\n",
            "Df Model:                           8                                         \n",
            "Covariance Type:            nonrobust                                         \n",
            "==============================================================================\n",
            "                 coef    std err          t      P>|t|      [0.025      0.975]\n",
            "------------------------------------------------------------------------------\n",
            "Intercept      5.1764      0.128     40.441      0.000       4.925       5.428\n",
            "educ           0.0544      0.007      7.853      0.000       0.041       0.068\n",
            "exper          0.0141      0.003      4.469      0.000       0.008       0.020\n",
            "tenure         0.0114      0.002      4.671      0.000       0.007       0.016\n",
            "married        0.1998      0.039      5.148      0.000       0.124       0.276\n",
            "south         -0.0802      0.026     -3.054      0.002      -0.132      -0.029\n",
            "urban          0.1819      0.027      6.791      0.000       0.129       0.235\n",
            "black         -0.1431      0.039     -3.624      0.000      -0.221      -0.066\n",
            "IQ             0.0036      0.001      3.589      0.000       0.002       0.006\n",
            "==============================================================================\n",
            "Omnibus:                       43.456   Durbin-Watson:                   1.820\n",
            "Prob(Omnibus):                  0.000   Jarque-Bera (JB):               99.739\n",
            "Skew:                          -0.248   Prob(JB):                     2.20e-22\n",
            "Kurtosis:                       4.521   Cond. No.                     1.13e+03\n",
            "==============================================================================\n",
            "\n",
            "Notes:\n",
            "[1] Standard Errors assume that the covariance matrix of the errors is correctly specified.\n",
            "[2] The condition number is large, 1.13e+03. This might indicate that there are\n",
            "strong multicollinearity or other numerical problems.\n"
          ]
        }
      ]
    },
    {
      "cell_type": "markdown",
      "source": [
        "- $\\beta_1$ implies an almost 5.4% return for another year of education."
      ],
      "metadata": {
        "id": "XCteZ6H4i70Z"
      }
    },
    {
      "cell_type": "markdown",
      "source": [
        "## c) IV"
      ],
      "metadata": {
        "id": "Fn2oT9qkjYrV"
      }
    },
    {
      "cell_type": "code",
      "source": [
        "df = add_constant(df, has_constant=\"add\")\n",
        "dep = df['lwage']\n",
        "exog = df[['const','educ', 'exper', 'tenure', 'married', 'south', 'urban', 'black']]\n",
        "endog = df['IQ']\n",
        "instr = df['KWW']\n",
        "\n",
        "resultIV = IV2SLS(dep, exog, endog, instr).fit() \n",
        "\n",
        "print(resultIV.summary)"
      ],
      "metadata": {
        "colab": {
          "base_uri": "https://localhost:8080/"
        },
        "id": "hw_FbN4yjk2n",
        "outputId": "c21df9ff-54a8-41dd-e7e7-4c20e9620cb3"
      },
      "execution_count": 6,
      "outputs": [
        {
          "output_type": "stream",
          "name": "stdout",
          "text": [
            "                          IV-2SLS Estimation Summary                          \n",
            "==============================================================================\n",
            "Dep. Variable:                  lwage   R-squared:                      0.1900\n",
            "Estimator:                    IV-2SLS   Adj. R-squared:                 0.1830\n",
            "No. Observations:                 935   F-statistic:                    356.33\n",
            "Date:                Wed, Aug 24 2022   P-value (F-stat)                0.0000\n",
            "Time:                        14:33:44   Distribution:                  chi2(8)\n",
            "Cov. Estimator:                robust                                         \n",
            "                                                                              \n",
            "                             Parameter Estimates                              \n",
            "==============================================================================\n",
            "            Parameter  Std. Err.     T-stat    P-value    Lower CI    Upper CI\n",
            "------------------------------------------------------------------------------\n",
            "const          4.5925     0.3501     13.117     0.0000      3.9063      5.2786\n",
            "educ           0.0250     0.0187     1.3410     0.1799     -0.0116      0.0616\n",
            "exper          0.0144     0.0034     4.2234     0.0000      0.0077      0.0211\n",
            "tenure         0.0105     0.0028     3.7258     0.0002      0.0050      0.0160\n",
            "married        0.2007     0.0404     4.9616     0.0000      0.1214      0.2800\n",
            "south         -0.0516     0.0339    -1.5201     0.1285     -0.1180      0.0149\n",
            "urban          0.1767     0.0274     6.4470     0.0000      0.1230      0.2304\n",
            "black         -0.0226     0.0798    -0.2826     0.7775     -0.1790      0.1339\n",
            "IQ             0.0130     0.0055     2.3835     0.0171      0.0023      0.0238\n",
            "==============================================================================\n",
            "\n",
            "Endogenous: IQ\n",
            "Instruments: KWW\n",
            "Robust Covariance (Heteroskedastic)\n",
            "Debiased: False\n"
          ]
        }
      ]
    },
    {
      "cell_type": "markdown",
      "source": [
        "- The coefficient on $educ$ is .025 ($se = .018.$)\n",
        "- This is a low estimate, and it is not statistically different from zero.\n",
        "- This is a puzzling finding, and it suggests that one of our assumptions fails; perhaps $e_1$ and $e_2$ are correlated."
      ],
      "metadata": {
        "id": "dduYSbf50pi1"
      }
    }
  ]
}