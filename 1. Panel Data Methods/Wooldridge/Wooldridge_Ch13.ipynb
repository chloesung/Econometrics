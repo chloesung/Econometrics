{
  "nbformat": 4,
  "nbformat_minor": 0,
  "metadata": {
    "colab": {
      "name": "Wooldridge_Ch13.ipynb",
      "provenance": [],
      "collapsed_sections": [
        "MrHODgJIm151",
        "hqvlN-Nam6iH"
      ],
      "authorship_tag": "ABX9TyO344ytZbIPZbJQ/YNUgI5V",
      "include_colab_link": true
    },
    "kernelspec": {
      "name": "python3",
      "display_name": "Python 3"
    },
    "language_info": {
      "name": "python"
    }
  },
  "cells": [
    {
      "cell_type": "markdown",
      "metadata": {
        "id": "view-in-github",
        "colab_type": "text"
      },
      "source": [
        "<a href=\"https://colab.research.google.com/github/chloesung/Econometrics/blob/main/1.%20Panel%20Data%20Methods/Wooldridge/Wooldridge_Ch13.ipynb\" target=\"_parent\"><img src=\"https://colab.research.google.com/assets/colab-badge.svg\" alt=\"Open In Colab\"/></a>"
      ]
    },
    {
      "cell_type": "markdown",
      "source": [
        "# Import"
      ],
      "metadata": {
        "id": "MrHODgJIm151"
      }
    },
    {
      "cell_type": "code",
      "source": [
        "pip install wooldridge"
      ],
      "metadata": {
        "colab": {
          "base_uri": "https://localhost:8080/"
        },
        "id": "HCfpr907mpS8",
        "outputId": "47a64790-3a4a-45e9-f4f3-0af1b04a1dde"
      },
      "execution_count": 1,
      "outputs": [
        {
          "output_type": "stream",
          "name": "stdout",
          "text": [
            "Looking in indexes: https://pypi.org/simple, https://us-python.pkg.dev/colab-wheels/public/simple/\n",
            "Collecting wooldridge\n",
            "  Downloading wooldridge-0.4.4-py3-none-any.whl (5.1 MB)\n",
            "\u001b[K     |████████████████████████████████| 5.1 MB 5.1 MB/s \n",
            "\u001b[?25hRequirement already satisfied: pandas in /usr/local/lib/python3.7/dist-packages (from wooldridge) (1.3.5)\n",
            "Requirement already satisfied: pytz>=2017.3 in /usr/local/lib/python3.7/dist-packages (from pandas->wooldridge) (2022.1)\n",
            "Requirement already satisfied: numpy>=1.17.3 in /usr/local/lib/python3.7/dist-packages (from pandas->wooldridge) (1.21.6)\n",
            "Requirement already satisfied: python-dateutil>=2.7.3 in /usr/local/lib/python3.7/dist-packages (from pandas->wooldridge) (2.8.2)\n",
            "Requirement already satisfied: six>=1.5 in /usr/local/lib/python3.7/dist-packages (from python-dateutil>=2.7.3->pandas->wooldridge) (1.15.0)\n",
            "Installing collected packages: wooldridge\n",
            "Successfully installed wooldridge-0.4.4\n"
          ]
        }
      ]
    },
    {
      "cell_type": "code",
      "source": [
        "pip install linearmodels"
      ],
      "metadata": {
        "colab": {
          "base_uri": "https://localhost:8080/"
        },
        "id": "mQcTdSpPU709",
        "outputId": "cde2bc56-2e3e-40d7-d678-13f2e32e601d"
      },
      "execution_count": 2,
      "outputs": [
        {
          "output_type": "stream",
          "name": "stdout",
          "text": [
            "Looking in indexes: https://pypi.org/simple, https://us-python.pkg.dev/colab-wheels/public/simple/\n",
            "Collecting linearmodels\n",
            "  Downloading linearmodels-4.25-cp37-cp37m-manylinux_2_17_x86_64.manylinux2014_x86_64.whl (1.5 MB)\n",
            "\u001b[K     |████████████████████████████████| 1.5 MB 5.1 MB/s \n",
            "\u001b[?25hCollecting mypy-extensions>=0.4\n",
            "  Downloading mypy_extensions-0.4.3-py2.py3-none-any.whl (4.5 kB)\n",
            "Requirement already satisfied: patsy in /usr/local/lib/python3.7/dist-packages (from linearmodels) (0.5.2)\n",
            "Requirement already satisfied: numpy>=1.16 in /usr/local/lib/python3.7/dist-packages (from linearmodels) (1.21.6)\n",
            "Collecting property-cached>=1.6.3\n",
            "  Downloading property_cached-1.6.4-py2.py3-none-any.whl (7.8 kB)\n",
            "Requirement already satisfied: pandas>=0.24 in /usr/local/lib/python3.7/dist-packages (from linearmodels) (1.3.5)\n",
            "Requirement already satisfied: scipy>=1.2 in /usr/local/lib/python3.7/dist-packages (from linearmodels) (1.7.3)\n",
            "Collecting statsmodels>=0.11\n",
            "  Downloading statsmodels-0.13.2-cp37-cp37m-manylinux_2_17_x86_64.manylinux2014_x86_64.whl (9.8 MB)\n",
            "\u001b[K     |████████████████████████████████| 9.8 MB 35.9 MB/s \n",
            "\u001b[?25hRequirement already satisfied: Cython>=0.29.21 in /usr/local/lib/python3.7/dist-packages (from linearmodels) (0.29.30)\n",
            "Collecting pyhdfe>=0.1\n",
            "  Downloading pyhdfe-0.1.0-py3-none-any.whl (18 kB)\n",
            "Collecting formulaic\n",
            "  Downloading formulaic-0.3.4-py3-none-any.whl (68 kB)\n",
            "\u001b[K     |████████████████████████████████| 68 kB 6.0 MB/s \n",
            "\u001b[?25hRequirement already satisfied: pytz>=2017.3 in /usr/local/lib/python3.7/dist-packages (from pandas>=0.24->linearmodels) (2022.1)\n",
            "Requirement already satisfied: python-dateutil>=2.7.3 in /usr/local/lib/python3.7/dist-packages (from pandas>=0.24->linearmodels) (2.8.2)\n",
            "Requirement already satisfied: six>=1.5 in /usr/local/lib/python3.7/dist-packages (from python-dateutil>=2.7.3->pandas>=0.24->linearmodels) (1.15.0)\n",
            "Requirement already satisfied: packaging>=21.3 in /usr/local/lib/python3.7/dist-packages (from statsmodels>=0.11->linearmodels) (21.3)\n",
            "Requirement already satisfied: pyparsing!=3.0.5,>=2.0.2 in /usr/local/lib/python3.7/dist-packages (from packaging>=21.3->statsmodels>=0.11->linearmodels) (3.0.9)\n",
            "Collecting interface-meta<2.0.0,>=1.2.0\n",
            "  Downloading interface_meta-1.3.0-py3-none-any.whl (14 kB)\n",
            "Requirement already satisfied: wrapt>=1.0 in /usr/local/lib/python3.7/dist-packages (from formulaic->linearmodels) (1.14.1)\n",
            "Requirement already satisfied: astor>=0.8 in /usr/local/lib/python3.7/dist-packages (from formulaic->linearmodels) (0.8.1)\n",
            "Installing collected packages: interface-meta, statsmodels, pyhdfe, property-cached, mypy-extensions, formulaic, linearmodels\n",
            "  Attempting uninstall: statsmodels\n",
            "    Found existing installation: statsmodels 0.10.2\n",
            "    Uninstalling statsmodels-0.10.2:\n",
            "      Successfully uninstalled statsmodels-0.10.2\n",
            "Successfully installed formulaic-0.3.4 interface-meta-1.3.0 linearmodels-4.25 mypy-extensions-0.4.3 property-cached-1.6.4 pyhdfe-0.1.0 statsmodels-0.13.2\n"
          ]
        }
      ]
    },
    {
      "cell_type": "code",
      "execution_count": 3,
      "metadata": {
        "id": "EOPNYo9qlOWJ"
      },
      "outputs": [],
      "source": [
        "import pandas as pd\n",
        "import numpy as np\n",
        "import re\n",
        "import math\n",
        "\n",
        "import seaborn as sns\n",
        "sns.set_palette(\"pastel\")\n",
        "sns.set(style=\"whitegrid\")\n",
        "import warnings\n",
        "import matplotlib.pyplot as plt\n",
        "pal = sns.color_palette('Set1')\n",
        "\n",
        "from scipy.stats import t\n",
        "from statsmodels.formula.api import ols\n",
        "pd.options.display.float_format = '{:.5f}'.format\n",
        "plt.rcParams['axes.unicode_minus'] = False\n",
        "import wooldridge\n",
        "from linearmodels import PanelOLS\n",
        "from linearmodels import RandomEffects\n",
        "\n",
        "warnings.filterwarnings(action='ignore')\n",
        "plt.rc('font', family='NanumBarunGothic') \n",
        "get_ipython().run_line_magic('config', \"InlineBackend.figure_format='retina' #화질 좋게 해주기\")"
      ]
    },
    {
      "cell_type": "markdown",
      "source": [
        "# GPA3"
      ],
      "metadata": {
        "id": "hqvlN-Nam6iH"
      }
    },
    {
      "cell_type": "markdown",
      "source": [
        "## a) EDA"
      ],
      "metadata": {
        "id": "s9Fg1olCotEt"
      }
    },
    {
      "cell_type": "code",
      "source": [
        "# Data import\n",
        "df = wooldridge.data('gpa3')\n",
        "df.head()"
      ],
      "metadata": {
        "colab": {
          "base_uri": "https://localhost:8080/",
          "height": 235
        },
        "id": "yu1w8dPBmshT",
        "outputId": "6f886e5a-b098-42c5-cea9-0baa6669a843"
      },
      "execution_count": 4,
      "outputs": [
        {
          "output_type": "execute_result",
          "data": {
            "text/plain": [
              "   term  sat  tothrs  cumgpa  season  frstsem  crsgpa  verbmath  trmgpa  \\\n",
              "0     1  920      31 2.25000       0        0 2.64640   0.48387 1.50000   \n",
              "1     2  920      43 2.04000       1        0 2.50770   0.48387 2.25000   \n",
              "2     1  780      28 2.03000       0        0 2.86790   0.81395 2.20000   \n",
              "3     2  780      43 2.09000       1        0 2.88390   0.81395 1.60000   \n",
              "4     1  810       0 0.00000       0        1 2.76340   0.88372 1.60000   \n",
              "\n",
              "   hssize  ...  female  black  white  ctrmgpa  ctothrs  ccrsgpa   ccrspop  \\\n",
              "0      10  ...       1      0      0      NaN      NaN      NaN       NaN   \n",
              "1      10  ...       1      0      0  0.75000 12.00000 -0.13870 -62.25000   \n",
              "2     123  ...       0      0      1      NaN      NaN      NaN       NaN   \n",
              "3     123  ...       0      0      1 -0.60000 15.00000  0.01600 -73.25000   \n",
              "4     119  ...       0      0      1      NaN      NaN      NaN       NaN   \n",
              "\n",
              "   cseason   hsperc  football  \n",
              "0      NaN 40.00000         0  \n",
              "1  1.00000 40.00000         0  \n",
              "2      NaN 82.92683         0  \n",
              "3  1.00000 82.92683         0  \n",
              "4      NaN 35.29412         0  \n",
              "\n",
              "[5 rows x 23 columns]"
            ],
            "text/html": [
              "\n",
              "  <div id=\"df-660ef006-416a-40af-bd0a-2a45796330c3\">\n",
              "    <div class=\"colab-df-container\">\n",
              "      <div>\n",
              "<style scoped>\n",
              "    .dataframe tbody tr th:only-of-type {\n",
              "        vertical-align: middle;\n",
              "    }\n",
              "\n",
              "    .dataframe tbody tr th {\n",
              "        vertical-align: top;\n",
              "    }\n",
              "\n",
              "    .dataframe thead th {\n",
              "        text-align: right;\n",
              "    }\n",
              "</style>\n",
              "<table border=\"1\" class=\"dataframe\">\n",
              "  <thead>\n",
              "    <tr style=\"text-align: right;\">\n",
              "      <th></th>\n",
              "      <th>term</th>\n",
              "      <th>sat</th>\n",
              "      <th>tothrs</th>\n",
              "      <th>cumgpa</th>\n",
              "      <th>season</th>\n",
              "      <th>frstsem</th>\n",
              "      <th>crsgpa</th>\n",
              "      <th>verbmath</th>\n",
              "      <th>trmgpa</th>\n",
              "      <th>hssize</th>\n",
              "      <th>...</th>\n",
              "      <th>female</th>\n",
              "      <th>black</th>\n",
              "      <th>white</th>\n",
              "      <th>ctrmgpa</th>\n",
              "      <th>ctothrs</th>\n",
              "      <th>ccrsgpa</th>\n",
              "      <th>ccrspop</th>\n",
              "      <th>cseason</th>\n",
              "      <th>hsperc</th>\n",
              "      <th>football</th>\n",
              "    </tr>\n",
              "  </thead>\n",
              "  <tbody>\n",
              "    <tr>\n",
              "      <th>0</th>\n",
              "      <td>1</td>\n",
              "      <td>920</td>\n",
              "      <td>31</td>\n",
              "      <td>2.25000</td>\n",
              "      <td>0</td>\n",
              "      <td>0</td>\n",
              "      <td>2.64640</td>\n",
              "      <td>0.48387</td>\n",
              "      <td>1.50000</td>\n",
              "      <td>10</td>\n",
              "      <td>...</td>\n",
              "      <td>1</td>\n",
              "      <td>0</td>\n",
              "      <td>0</td>\n",
              "      <td>NaN</td>\n",
              "      <td>NaN</td>\n",
              "      <td>NaN</td>\n",
              "      <td>NaN</td>\n",
              "      <td>NaN</td>\n",
              "      <td>40.00000</td>\n",
              "      <td>0</td>\n",
              "    </tr>\n",
              "    <tr>\n",
              "      <th>1</th>\n",
              "      <td>2</td>\n",
              "      <td>920</td>\n",
              "      <td>43</td>\n",
              "      <td>2.04000</td>\n",
              "      <td>1</td>\n",
              "      <td>0</td>\n",
              "      <td>2.50770</td>\n",
              "      <td>0.48387</td>\n",
              "      <td>2.25000</td>\n",
              "      <td>10</td>\n",
              "      <td>...</td>\n",
              "      <td>1</td>\n",
              "      <td>0</td>\n",
              "      <td>0</td>\n",
              "      <td>0.75000</td>\n",
              "      <td>12.00000</td>\n",
              "      <td>-0.13870</td>\n",
              "      <td>-62.25000</td>\n",
              "      <td>1.00000</td>\n",
              "      <td>40.00000</td>\n",
              "      <td>0</td>\n",
              "    </tr>\n",
              "    <tr>\n",
              "      <th>2</th>\n",
              "      <td>1</td>\n",
              "      <td>780</td>\n",
              "      <td>28</td>\n",
              "      <td>2.03000</td>\n",
              "      <td>0</td>\n",
              "      <td>0</td>\n",
              "      <td>2.86790</td>\n",
              "      <td>0.81395</td>\n",
              "      <td>2.20000</td>\n",
              "      <td>123</td>\n",
              "      <td>...</td>\n",
              "      <td>0</td>\n",
              "      <td>0</td>\n",
              "      <td>1</td>\n",
              "      <td>NaN</td>\n",
              "      <td>NaN</td>\n",
              "      <td>NaN</td>\n",
              "      <td>NaN</td>\n",
              "      <td>NaN</td>\n",
              "      <td>82.92683</td>\n",
              "      <td>0</td>\n",
              "    </tr>\n",
              "    <tr>\n",
              "      <th>3</th>\n",
              "      <td>2</td>\n",
              "      <td>780</td>\n",
              "      <td>43</td>\n",
              "      <td>2.09000</td>\n",
              "      <td>1</td>\n",
              "      <td>0</td>\n",
              "      <td>2.88390</td>\n",
              "      <td>0.81395</td>\n",
              "      <td>1.60000</td>\n",
              "      <td>123</td>\n",
              "      <td>...</td>\n",
              "      <td>0</td>\n",
              "      <td>0</td>\n",
              "      <td>1</td>\n",
              "      <td>-0.60000</td>\n",
              "      <td>15.00000</td>\n",
              "      <td>0.01600</td>\n",
              "      <td>-73.25000</td>\n",
              "      <td>1.00000</td>\n",
              "      <td>82.92683</td>\n",
              "      <td>0</td>\n",
              "    </tr>\n",
              "    <tr>\n",
              "      <th>4</th>\n",
              "      <td>1</td>\n",
              "      <td>810</td>\n",
              "      <td>0</td>\n",
              "      <td>0.00000</td>\n",
              "      <td>0</td>\n",
              "      <td>1</td>\n",
              "      <td>2.76340</td>\n",
              "      <td>0.88372</td>\n",
              "      <td>1.60000</td>\n",
              "      <td>119</td>\n",
              "      <td>...</td>\n",
              "      <td>0</td>\n",
              "      <td>0</td>\n",
              "      <td>1</td>\n",
              "      <td>NaN</td>\n",
              "      <td>NaN</td>\n",
              "      <td>NaN</td>\n",
              "      <td>NaN</td>\n",
              "      <td>NaN</td>\n",
              "      <td>35.29412</td>\n",
              "      <td>0</td>\n",
              "    </tr>\n",
              "  </tbody>\n",
              "</table>\n",
              "<p>5 rows × 23 columns</p>\n",
              "</div>\n",
              "      <button class=\"colab-df-convert\" onclick=\"convertToInteractive('df-660ef006-416a-40af-bd0a-2a45796330c3')\"\n",
              "              title=\"Convert this dataframe to an interactive table.\"\n",
              "              style=\"display:none;\">\n",
              "        \n",
              "  <svg xmlns=\"http://www.w3.org/2000/svg\" height=\"24px\"viewBox=\"0 0 24 24\"\n",
              "       width=\"24px\">\n",
              "    <path d=\"M0 0h24v24H0V0z\" fill=\"none\"/>\n",
              "    <path d=\"M18.56 5.44l.94 2.06.94-2.06 2.06-.94-2.06-.94-.94-2.06-.94 2.06-2.06.94zm-11 1L8.5 8.5l.94-2.06 2.06-.94-2.06-.94L8.5 2.5l-.94 2.06-2.06.94zm10 10l.94 2.06.94-2.06 2.06-.94-2.06-.94-.94-2.06-.94 2.06-2.06.94z\"/><path d=\"M17.41 7.96l-1.37-1.37c-.4-.4-.92-.59-1.43-.59-.52 0-1.04.2-1.43.59L10.3 9.45l-7.72 7.72c-.78.78-.78 2.05 0 2.83L4 21.41c.39.39.9.59 1.41.59.51 0 1.02-.2 1.41-.59l7.78-7.78 2.81-2.81c.8-.78.8-2.07 0-2.86zM5.41 20L4 18.59l7.72-7.72 1.47 1.35L5.41 20z\"/>\n",
              "  </svg>\n",
              "      </button>\n",
              "      \n",
              "  <style>\n",
              "    .colab-df-container {\n",
              "      display:flex;\n",
              "      flex-wrap:wrap;\n",
              "      gap: 12px;\n",
              "    }\n",
              "\n",
              "    .colab-df-convert {\n",
              "      background-color: #E8F0FE;\n",
              "      border: none;\n",
              "      border-radius: 50%;\n",
              "      cursor: pointer;\n",
              "      display: none;\n",
              "      fill: #1967D2;\n",
              "      height: 32px;\n",
              "      padding: 0 0 0 0;\n",
              "      width: 32px;\n",
              "    }\n",
              "\n",
              "    .colab-df-convert:hover {\n",
              "      background-color: #E2EBFA;\n",
              "      box-shadow: 0px 1px 2px rgba(60, 64, 67, 0.3), 0px 1px 3px 1px rgba(60, 64, 67, 0.15);\n",
              "      fill: #174EA6;\n",
              "    }\n",
              "\n",
              "    [theme=dark] .colab-df-convert {\n",
              "      background-color: #3B4455;\n",
              "      fill: #D2E3FC;\n",
              "    }\n",
              "\n",
              "    [theme=dark] .colab-df-convert:hover {\n",
              "      background-color: #434B5C;\n",
              "      box-shadow: 0px 1px 3px 1px rgba(0, 0, 0, 0.15);\n",
              "      filter: drop-shadow(0px 1px 2px rgba(0, 0, 0, 0.3));\n",
              "      fill: #FFFFFF;\n",
              "    }\n",
              "  </style>\n",
              "\n",
              "      <script>\n",
              "        const buttonEl =\n",
              "          document.querySelector('#df-660ef006-416a-40af-bd0a-2a45796330c3 button.colab-df-convert');\n",
              "        buttonEl.style.display =\n",
              "          google.colab.kernel.accessAllowed ? 'block' : 'none';\n",
              "\n",
              "        async function convertToInteractive(key) {\n",
              "          const element = document.querySelector('#df-660ef006-416a-40af-bd0a-2a45796330c3');\n",
              "          const dataTable =\n",
              "            await google.colab.kernel.invokeFunction('convertToInteractive',\n",
              "                                                     [key], {});\n",
              "          if (!dataTable) return;\n",
              "\n",
              "          const docLinkHtml = 'Like what you see? Visit the ' +\n",
              "            '<a target=\"_blank\" href=https://colab.research.google.com/notebooks/data_table.ipynb>data table notebook</a>'\n",
              "            + ' to learn more about interactive tables.';\n",
              "          element.innerHTML = '';\n",
              "          dataTable['output_type'] = 'display_data';\n",
              "          await google.colab.output.renderOutput(dataTable, element);\n",
              "          const docLink = document.createElement('div');\n",
              "          docLink.innerHTML = docLinkHtml;\n",
              "          element.appendChild(docLink);\n",
              "        }\n",
              "      </script>\n",
              "    </div>\n",
              "  </div>\n",
              "  "
            ]
          },
          "metadata": {},
          "execution_count": 4
        }
      ]
    },
    {
      "cell_type": "code",
      "source": [
        "df.mean()"
      ],
      "metadata": {
        "colab": {
          "base_uri": "https://localhost:8080/"
        },
        "id": "9A0kDy2qsJCu",
        "outputId": "47b5c909-aa86-4990-e789-aa8f4a951351"
      },
      "execution_count": 5,
      "outputs": [
        {
          "output_type": "execute_result",
          "data": {
            "text/plain": [
              "term           1.50000\n",
              "sat          898.90710\n",
              "tothrs        47.03962\n",
              "cumgpa         2.08086\n",
              "season         0.67077\n",
              "frstsem        0.13251\n",
              "crsgpa         2.77923\n",
              "verbmath       0.85451\n",
              "trmgpa         2.33025\n",
              "hssize       312.76776\n",
              "hsrank       107.90437\n",
              "id         15786.41530\n",
              "spring         0.50000\n",
              "female         0.24590\n",
              "black          0.21038\n",
              "white          0.75683\n",
              "ctrmgpa        0.01568\n",
              "ctothrs       13.98087\n",
              "ccrsgpa        0.05690\n",
              "ccrspop      -67.66951\n",
              "cseason       -0.35246\n",
              "hsperc        34.99677\n",
              "football       0.32514\n",
              "dtype: float64"
            ]
          },
          "metadata": {},
          "execution_count": 5
        }
      ]
    },
    {
      "cell_type": "code",
      "source": [
        "# Dependent Variable: GPA\n",
        "df['trmgpa'].plot(kind= 'hist')"
      ],
      "metadata": {
        "colab": {
          "base_uri": "https://localhost:8080/",
          "height": 304
        },
        "id": "MAh04y7mnV28",
        "outputId": "c50540cc-c657-4a96-edde-6f8466f743b0"
      },
      "execution_count": 6,
      "outputs": [
        {
          "output_type": "execute_result",
          "data": {
            "text/plain": [
              "<matplotlib.axes._subplots.AxesSubplot at 0x7f385fa63f50>"
            ]
          },
          "metadata": {},
          "execution_count": 6
        },
        {
          "output_type": "stream",
          "name": "stderr",
          "text": [
            "findfont: Font family ['NanumBarunGothic'] not found. Falling back to DejaVu Sans.\n",
            "findfont: Font family ['NanumBarunGothic'] not found. Falling back to DejaVu Sans.\n"
          ]
        },
        {
          "output_type": "display_data",
          "data": {
            "text/plain": [
              "<Figure size 432x288 with 1 Axes>"
            ],
            "image/png": "[encoded data removed]"
          },
          "metadata": {
            "image/png": {
              "width": 395,
              "height": 251
            }
          }
        }
      ]
    },
    {
      "cell_type": "code",
      "source": [
        "# Set index to 'id'\n",
        "df['id'] = df['id'].astype(int)\n",
        "df = df.set_index('id')"
      ],
      "metadata": {
        "id": "1kVdWNoDqRXM"
      },
      "execution_count": 7,
      "outputs": []
    },
    {
      "cell_type": "markdown",
      "source": [
        "## b) Pooled OLS"
      ],
      "metadata": {
        "id": "j8dNBKjXrDoU"
      }
    },
    {
      "cell_type": "code",
      "source": [
        "res = ols('trmgpa ~  spring + sat + hsperc + female + black + white + frstsem + tothrs + crsgpa + season', data=df).fit()\n",
        "print(res.summary())"
      ],
      "metadata": {
        "colab": {
          "base_uri": "https://localhost:8080/"
        },
        "id": "m7sFcrqkniAN",
        "outputId": "e7fdca25-c6b0-4dac-fecf-6fa5d3d55fe2"
      },
      "execution_count": 8,
      "outputs": [
        {
          "output_type": "stream",
          "name": "stdout",
          "text": [
            "                            OLS Regression Results                            \n",
            "==============================================================================\n",
            "Dep. Variable:                 trmgpa   R-squared:                       0.478\n",
            "Model:                            OLS   Adj. R-squared:                  0.470\n",
            "Method:                 Least Squares   F-statistic:                     65.91\n",
            "Date:                Tue, 26 Jul 2022   Prob (F-statistic):           8.55e-95\n",
            "Time:                        07:26:18   Log-Likelihood:                -597.97\n",
            "No. Observations:                 732   AIC:                             1218.\n",
            "Df Residuals:                     721   BIC:                             1269.\n",
            "Df Model:                          10                                         \n",
            "Covariance Type:            nonrobust                                         \n",
            "==============================================================================\n",
            "                 coef    std err          t      P>|t|      [0.025      0.975]\n",
            "------------------------------------------------------------------------------\n",
            "Intercept     -1.7528      0.348     -5.038      0.000      -2.436      -1.070\n",
            "spring        -0.0580      0.048     -1.208      0.228      -0.152       0.036\n",
            "sat            0.0017      0.000     11.367      0.000       0.001       0.002\n",
            "hsperc        -0.0087      0.001     -8.358      0.000      -0.011      -0.007\n",
            "female         0.3504      0.052      6.758      0.000       0.249       0.452\n",
            "black         -0.2541      0.123     -2.068      0.039      -0.495      -0.013\n",
            "white         -0.0233      0.117     -0.199      0.843      -0.254       0.207\n",
            "frstsem       -0.0347      0.076     -0.456      0.649      -0.184       0.115\n",
            "tothrs        -0.0003      0.001     -0.466      0.641      -0.002       0.001\n",
            "crsgpa         1.0479      0.104     10.065      0.000       0.843       1.252\n",
            "season        -0.0273      0.049     -0.556      0.578      -0.124       0.069\n",
            "==============================================================================\n",
            "Omnibus:                       14.917   Durbin-Watson:                   1.515\n",
            "Prob(Omnibus):                  0.001   Jarque-Bera (JB):               15.556\n",
            "Skew:                          -0.317   Prob(JB):                     0.000419\n",
            "Kurtosis:                       3.329   Cond. No.                     1.63e+04\n",
            "==============================================================================\n",
            "\n",
            "Notes:\n",
            "[1] Standard Errors assume that the covariance matrix of the errors is correctly specified.\n",
            "[2] The condition number is large, 1.63e+04. This might indicate that there are\n",
            "strong multicollinearity or other numerical problems.\n"
          ]
        }
      ]
    },
    {
      "cell_type": "markdown",
      "source": [
        "- *Season* is not statistically significant.\n",
        "- If the ability levels are correlated with season, then A1 is violated.\n",
        "- So Pooled OLS estimators can be biased"
      ],
      "metadata": {
        "id": "IStVENEktjd-"
      }
    },
    {
      "cell_type": "markdown",
      "source": [
        "## c) Data differenced Model"
      ],
      "metadata": {
        "id": "tBmOJDT50ZyT"
      }
    },
    {
      "cell_type": "code",
      "source": [
        "col = ['trmgpa', 'spring', 'sat', 'hsperc', 'female', 'black', 'white', 'frstsem', 'tothrs', 'crsgpa', 'season']\n",
        "df_1 = df[df['term'] == 1][col]\n",
        "df_2 = df[df['term'] == 2][col]\n",
        "df_diff = df_2 - df_1\n",
        "df_diff.head()"
      ],
      "metadata": {
        "colab": {
          "base_uri": "https://localhost:8080/",
          "height": 237
        },
        "id": "8BEgm3qUyBn7",
        "outputId": "a8a0cb27-e8e6-4d04-d8fb-cd28dcb60115"
      },
      "execution_count": 9,
      "outputs": [
        {
          "output_type": "execute_result",
          "data": {
            "text/plain": [
              "      trmgpa  spring  sat  hsperc  female  black  white  frstsem  tothrs  \\\n",
              "id                                                                         \n",
              "22   0.75000       1    0 0.00000       0      0      0        0      12   \n",
              "35  -0.60000       1    0 0.00000       0      0      0        0      15   \n",
              "36  -0.31000       1    0 0.00000       0      0      0       -1      14   \n",
              "156  0.73000       1    0 0.00000       0      0      0       -1      17   \n",
              "246 -0.20000       1    0 0.00000       0      0      0        0      15   \n",
              "\n",
              "      crsgpa  season  \n",
              "id                    \n",
              "22  -0.13870       1  \n",
              "35   0.01600       1  \n",
              "36  -0.20340       1  \n",
              "156 -0.03850      -1  \n",
              "246 -0.11210      -1  "
            ],
            "text/html": [
              "\n",
              "  <div id=\"df-05d3945c-0ca9-47a2-9ae8-0a26f2e83ea4\">\n",
              "    <div class=\"colab-df-container\">\n",
              "      <div>\n",
              "<style scoped>\n",
              "    .dataframe tbody tr th:only-of-type {\n",
              "        vertical-align: middle;\n",
              "    }\n",
              "\n",
              "    .dataframe tbody tr th {\n",
              "        vertical-align: top;\n",
              "    }\n",
              "\n",
              "    .dataframe thead th {\n",
              "        text-align: right;\n",
              "    }\n",
              "</style>\n",
              "<table border=\"1\" class=\"dataframe\">\n",
              "  <thead>\n",
              "    <tr style=\"text-align: right;\">\n",
              "      <th></th>\n",
              "      <th>trmgpa</th>\n",
              "      <th>spring</th>\n",
              "      <th>sat</th>\n",
              "      <th>hsperc</th>\n",
              "      <th>female</th>\n",
              "      <th>black</th>\n",
              "      <th>white</th>\n",
              "      <th>frstsem</th>\n",
              "      <th>tothrs</th>\n",
              "      <th>crsgpa</th>\n",
              "      <th>season</th>\n",
              "    </tr>\n",
              "    <tr>\n",
              "      <th>id</th>\n",
              "      <th></th>\n",
              "      <th></th>\n",
              "      <th></th>\n",
              "      <th></th>\n",
              "      <th></th>\n",
              "      <th></th>\n",
              "      <th></th>\n",
              "      <th></th>\n",
              "      <th></th>\n",
              "      <th></th>\n",
              "      <th></th>\n",
              "    </tr>\n",
              "  </thead>\n",
              "  <tbody>\n",
              "    <tr>\n",
              "      <th>22</th>\n",
              "      <td>0.75000</td>\n",
              "      <td>1</td>\n",
              "      <td>0</td>\n",
              "      <td>0.00000</td>\n",
              "      <td>0</td>\n",
              "      <td>0</td>\n",
              "      <td>0</td>\n",
              "      <td>0</td>\n",
              "      <td>12</td>\n",
              "      <td>-0.13870</td>\n",
              "      <td>1</td>\n",
              "    </tr>\n",
              "    <tr>\n",
              "      <th>35</th>\n",
              "      <td>-0.60000</td>\n",
              "      <td>1</td>\n",
              "      <td>0</td>\n",
              "      <td>0.00000</td>\n",
              "      <td>0</td>\n",
              "      <td>0</td>\n",
              "      <td>0</td>\n",
              "      <td>0</td>\n",
              "      <td>15</td>\n",
              "      <td>0.01600</td>\n",
              "      <td>1</td>\n",
              "    </tr>\n",
              "    <tr>\n",
              "      <th>36</th>\n",
              "      <td>-0.31000</td>\n",
              "      <td>1</td>\n",
              "      <td>0</td>\n",
              "      <td>0.00000</td>\n",
              "      <td>0</td>\n",
              "      <td>0</td>\n",
              "      <td>0</td>\n",
              "      <td>-1</td>\n",
              "      <td>14</td>\n",
              "      <td>-0.20340</td>\n",
              "      <td>1</td>\n",
              "    </tr>\n",
              "    <tr>\n",
              "      <th>156</th>\n",
              "      <td>0.73000</td>\n",
              "      <td>1</td>\n",
              "      <td>0</td>\n",
              "      <td>0.00000</td>\n",
              "      <td>0</td>\n",
              "      <td>0</td>\n",
              "      <td>0</td>\n",
              "      <td>-1</td>\n",
              "      <td>17</td>\n",
              "      <td>-0.03850</td>\n",
              "      <td>-1</td>\n",
              "    </tr>\n",
              "    <tr>\n",
              "      <th>246</th>\n",
              "      <td>-0.20000</td>\n",
              "      <td>1</td>\n",
              "      <td>0</td>\n",
              "      <td>0.00000</td>\n",
              "      <td>0</td>\n",
              "      <td>0</td>\n",
              "      <td>0</td>\n",
              "      <td>0</td>\n",
              "      <td>15</td>\n",
              "      <td>-0.11210</td>\n",
              "      <td>-1</td>\n",
              "    </tr>\n",
              "  </tbody>\n",
              "</table>\n",
              "</div>\n",
              "      <button class=\"colab-df-convert\" onclick=\"convertToInteractive('df-05d3945c-0ca9-47a2-9ae8-0a26f2e83ea4')\"\n",
              "              title=\"Convert this dataframe to an interactive table.\"\n",
              "              style=\"display:none;\">\n",
              "        \n",
              "  <svg xmlns=\"http://www.w3.org/2000/svg\" height=\"24px\"viewBox=\"0 0 24 24\"\n",
              "       width=\"24px\">\n",
              "    <path d=\"M0 0h24v24H0V0z\" fill=\"none\"/>\n",
              "    <path d=\"M18.56 5.44l.94 2.06.94-2.06 2.06-.94-2.06-.94-.94-2.06-.94 2.06-2.06.94zm-11 1L8.5 8.5l.94-2.06 2.06-.94-2.06-.94L8.5 2.5l-.94 2.06-2.06.94zm10 10l.94 2.06.94-2.06 2.06-.94-2.06-.94-.94-2.06-.94 2.06-2.06.94z\"/><path d=\"M17.41 7.96l-1.37-1.37c-.4-.4-.92-.59-1.43-.59-.52 0-1.04.2-1.43.59L10.3 9.45l-7.72 7.72c-.78.78-.78 2.05 0 2.83L4 21.41c.39.39.9.59 1.41.59.51 0 1.02-.2 1.41-.59l7.78-7.78 2.81-2.81c.8-.78.8-2.07 0-2.86zM5.41 20L4 18.59l7.72-7.72 1.47 1.35L5.41 20z\"/>\n",
              "  </svg>\n",
              "      </button>\n",
              "      \n",
              "  <style>\n",
              "    .colab-df-container {\n",
              "      display:flex;\n",
              "      flex-wrap:wrap;\n",
              "      gap: 12px;\n",
              "    }\n",
              "\n",
              "    .colab-df-convert {\n",
              "      background-color: #E8F0FE;\n",
              "      border: none;\n",
              "      border-radius: 50%;\n",
              "      cursor: pointer;\n",
              "      display: none;\n",
              "      fill: #1967D2;\n",
              "      height: 32px;\n",
              "      padding: 0 0 0 0;\n",
              "      width: 32px;\n",
              "    }\n",
              "\n",
              "    .colab-df-convert:hover {\n",
              "      background-color: #E2EBFA;\n",
              "      box-shadow: 0px 1px 2px rgba(60, 64, 67, 0.3), 0px 1px 3px 1px rgba(60, 64, 67, 0.15);\n",
              "      fill: #174EA6;\n",
              "    }\n",
              "\n",
              "    [theme=dark] .colab-df-convert {\n",
              "      background-color: #3B4455;\n",
              "      fill: #D2E3FC;\n",
              "    }\n",
              "\n",
              "    [theme=dark] .colab-df-convert:hover {\n",
              "      background-color: #434B5C;\n",
              "      box-shadow: 0px 1px 3px 1px rgba(0, 0, 0, 0.15);\n",
              "      filter: drop-shadow(0px 1px 2px rgba(0, 0, 0, 0.3));\n",
              "      fill: #FFFFFF;\n",
              "    }\n",
              "  </style>\n",
              "\n",
              "      <script>\n",
              "        const buttonEl =\n",
              "          document.querySelector('#df-05d3945c-0ca9-47a2-9ae8-0a26f2e83ea4 button.colab-df-convert');\n",
              "        buttonEl.style.display =\n",
              "          google.colab.kernel.accessAllowed ? 'block' : 'none';\n",
              "\n",
              "        async function convertToInteractive(key) {\n",
              "          const element = document.querySelector('#df-05d3945c-0ca9-47a2-9ae8-0a26f2e83ea4');\n",
              "          const dataTable =\n",
              "            await google.colab.kernel.invokeFunction('convertToInteractive',\n",
              "                                                     [key], {});\n",
              "          if (!dataTable) return;\n",
              "\n",
              "          const docLinkHtml = 'Like what you see? Visit the ' +\n",
              "            '<a target=\"_blank\" href=https://colab.research.google.com/notebooks/data_table.ipynb>data table notebook</a>'\n",
              "            + ' to learn more about interactive tables.';\n",
              "          element.innerHTML = '';\n",
              "          dataTable['output_type'] = 'display_data';\n",
              "          await google.colab.output.renderOutput(dataTable, element);\n",
              "          const docLink = document.createElement('div');\n",
              "          docLink.innerHTML = docLinkHtml;\n",
              "          element.appendChild(docLink);\n",
              "        }\n",
              "      </script>\n",
              "    </div>\n",
              "  </div>\n",
              "  "
            ]
          },
          "metadata": {},
          "execution_count": 9
        }
      ]
    },
    {
      "cell_type": "markdown",
      "source": [
        "- *sat, hsperc, female, black, white* drops out"
      ],
      "metadata": {
        "id": "H8ylGZwt0reJ"
      }
    },
    {
      "cell_type": "code",
      "source": [
        "res = ols('trmgpa ~  frstsem + tothrs + crsgpa + season', data=df_diff).fit()\n",
        "print(res.summary())"
      ],
      "metadata": {
        "colab": {
          "base_uri": "https://localhost:8080/"
        },
        "id": "CZX_EVKgyU0f",
        "outputId": "4caf1e40-fa54-4ecd-d79b-6a43b0b49fc0"
      },
      "execution_count": 10,
      "outputs": [
        {
          "output_type": "stream",
          "name": "stdout",
          "text": [
            "                            OLS Regression Results                            \n",
            "==============================================================================\n",
            "Dep. Variable:                 trmgpa   R-squared:                       0.208\n",
            "Model:                            OLS   Adj. R-squared:                  0.199\n",
            "Method:                 Least Squares   F-statistic:                     23.70\n",
            "Date:                Tue, 26 Jul 2022   Prob (F-statistic):           2.02e-17\n",
            "Time:                        07:26:18   Log-Likelihood:                -316.43\n",
            "No. Observations:                 366   AIC:                             642.9\n",
            "Df Residuals:                     361   BIC:                             662.4\n",
            "Df Model:                           4                                         \n",
            "Covariance Type:            nonrobust                                         \n",
            "==============================================================================\n",
            "                 coef    std err          t      P>|t|      [0.025      0.975]\n",
            "------------------------------------------------------------------------------\n",
            "Intercept     -0.2366      0.206     -1.149      0.252      -0.642       0.168\n",
            "frstsem        0.0191      0.069      0.276      0.782      -0.117       0.155\n",
            "tothrs         0.0122      0.014      0.845      0.399      -0.016       0.040\n",
            "crsgpa         1.1364      0.119      9.564      0.000       0.903       1.370\n",
            "season        -0.0645      0.043     -1.517      0.130      -0.148       0.019\n",
            "==============================================================================\n",
            "Omnibus:                       12.744   Durbin-Watson:                   1.980\n",
            "Prob(Omnibus):                  0.002   Jarque-Bera (JB):               20.732\n",
            "Skew:                          -0.222   Prob(JB):                     3.15e-05\n",
            "Kurtosis:                       4.078   Cond. No.                         97.1\n",
            "==============================================================================\n",
            "\n",
            "Notes:\n",
            "[1] Standard Errors assume that the covariance matrix of the errors is correctly specified.\n"
          ]
        }
      ]
    },
    {
      "cell_type": "markdown",
      "source": [
        "- Athletes perform more poorly during the semester their sport is in season!"
      ],
      "metadata": {
        "id": "paUZVM1Y15AC"
      }
    }
  ]
}